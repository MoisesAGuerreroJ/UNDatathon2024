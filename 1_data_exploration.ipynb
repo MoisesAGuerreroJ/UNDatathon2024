{
 "cells": [
  {
   "cell_type": "markdown",
   "id": "e98531a0-e21b-4ce3-aaa7-2f8c123f14f6",
   "metadata": {},
   "source": [
    "# Data Exploration Notebook\n",
    "## UN Datathon 2024\n",
    "\n",
    "This notebook is designed to guide and facilitate the exploration of the datasets that are available for this event, promoting analyses and insights that contribute to innovative solutions for the United Nations Sustainable Development Goals (SDGs). Throughout this exploratory analysis, our goal will be to uncover patterns, trends, and key characteristics that deepen our understanding of the data."
   ]
  },
  {
   "cell_type": "markdown",
   "id": "eb1de004-dc08-4434-83fb-2920afa8e56e",
   "metadata": {},
   "source": [
    "## Notebook Objectives\n",
    "- **Explore** the features and variables within the available datasets.\n",
    "- **Visualize** relevant data to discover patterns, trends, and correlations.\n",
    "- **Identify** potential areas for in-depth analysis and predictive modeling."
   ]
  },
  {
   "cell_type": "code",
   "execution_count": 1,
   "id": "546654ae-6c26-44ba-8125-13dce0f7af1e",
   "metadata": {},
   "outputs": [],
   "source": [
    "import numpy as np\n",
    "import pandas as pd\n",
    "import matplotlib.pyplot as plt\n",
    "import seaborn as sns"
   ]
  },
  {
   "cell_type": "code",
   "execution_count": 2,
   "id": "8e569042-4079-4be6-9af9-eb3b365b3939",
   "metadata": {},
   "outputs": [],
   "source": [
    "df = pd.read_csv(\"data/MEData/ingreso_mensual_de_visitantes_a_sitios_de_interes.csv\")"
   ]
  },
  {
   "cell_type": "code",
   "execution_count": 3,
   "id": "0f916415-0726-4b31-8557-93c5ab9c880b",
   "metadata": {},
   "outputs": [
    {
     "data": {
      "text/html": [
       "<div>\n",
       "<style scoped>\n",
       "    .dataframe tbody tr th:only-of-type {\n",
       "        vertical-align: middle;\n",
       "    }\n",
       "\n",
       "    .dataframe tbody tr th {\n",
       "        vertical-align: top;\n",
       "    }\n",
       "\n",
       "    .dataframe thead th {\n",
       "        text-align: right;\n",
       "    }\n",
       "</style>\n",
       "<table border=\"1\" class=\"dataframe\">\n",
       "  <thead>\n",
       "    <tr style=\"text-align: right;\">\n",
       "      <th></th>\n",
       "      <th>sit_nombre</th>\n",
       "      <th>sit_periodo</th>\n",
       "      <th>sit_totalvisitas</th>\n",
       "    </tr>\n",
       "  </thead>\n",
       "  <tbody>\n",
       "    <tr>\n",
       "      <th>0</th>\n",
       "      <td>PARQUE_NORTE</td>\n",
       "      <td>202209</td>\n",
       "      <td>17246</td>\n",
       "    </tr>\n",
       "    <tr>\n",
       "      <th>1</th>\n",
       "      <td>PARQUE_ARVI</td>\n",
       "      <td>202209</td>\n",
       "      <td>68339</td>\n",
       "    </tr>\n",
       "    <tr>\n",
       "      <th>2</th>\n",
       "      <td>AEROPARQUE_JUAN_PABLO</td>\n",
       "      <td>202209</td>\n",
       "      <td>7647</td>\n",
       "    </tr>\n",
       "    <tr>\n",
       "      <th>3</th>\n",
       "      <td>PLANETARIO_MEDELLIN</td>\n",
       "      <td>202209</td>\n",
       "      <td>9525</td>\n",
       "    </tr>\n",
       "    <tr>\n",
       "      <th>4</th>\n",
       "      <td>ZOOLOGICO_SANTA_FE</td>\n",
       "      <td>202209</td>\n",
       "      <td>16277</td>\n",
       "    </tr>\n",
       "    <tr>\n",
       "      <th>...</th>\n",
       "      <td>...</td>\n",
       "      <td>...</td>\n",
       "      <td>...</td>\n",
       "    </tr>\n",
       "    <tr>\n",
       "      <th>1452</th>\n",
       "      <td>AEROPARQUE_JUAN_PABLO</td>\n",
       "      <td>200701</td>\n",
       "      <td>0</td>\n",
       "    </tr>\n",
       "    <tr>\n",
       "      <th>1453</th>\n",
       "      <td>PARQUE_EXPLORA</td>\n",
       "      <td>200701</td>\n",
       "      <td>0</td>\n",
       "    </tr>\n",
       "    <tr>\n",
       "      <th>1454</th>\n",
       "      <td>PARQUE_NORTE</td>\n",
       "      <td>200701</td>\n",
       "      <td>0</td>\n",
       "    </tr>\n",
       "    <tr>\n",
       "      <th>1455</th>\n",
       "      <td>PLANETARIO_MEDELLIN</td>\n",
       "      <td>200701</td>\n",
       "      <td>0</td>\n",
       "    </tr>\n",
       "    <tr>\n",
       "      <th>1456</th>\n",
       "      <td>PARQUE_ARVI</td>\n",
       "      <td>200701</td>\n",
       "      <td>0</td>\n",
       "    </tr>\n",
       "  </tbody>\n",
       "</table>\n",
       "<p>1457 rows × 3 columns</p>\n",
       "</div>"
      ],
      "text/plain": [
       "                 sit_nombre  sit_periodo  sit_totalvisitas\n",
       "0              PARQUE_NORTE       202209             17246\n",
       "1               PARQUE_ARVI       202209             68339\n",
       "2     AEROPARQUE_JUAN_PABLO       202209              7647\n",
       "3       PLANETARIO_MEDELLIN       202209              9525\n",
       "4        ZOOLOGICO_SANTA_FE       202209             16277\n",
       "...                     ...          ...               ...\n",
       "1452  AEROPARQUE_JUAN_PABLO       200701                 0\n",
       "1453         PARQUE_EXPLORA       200701                 0\n",
       "1454           PARQUE_NORTE       200701                 0\n",
       "1455    PLANETARIO_MEDELLIN       200701                 0\n",
       "1456            PARQUE_ARVI       200701                 0\n",
       "\n",
       "[1457 rows x 3 columns]"
      ]
     },
     "execution_count": 3,
     "metadata": {},
     "output_type": "execute_result"
    }
   ],
   "source": [
    "df"
   ]
  },
  {
   "cell_type": "code",
   "execution_count": 16,
   "id": "ceb0aac0-8ee5-4217-87d3-d1ee6d29b633",
   "metadata": {},
   "outputs": [
    {
     "data": {
      "text/plain": [
       "sit_nombre          object\n",
       "sit_periodo          int64\n",
       "sit_totalvisitas     int64\n",
       "dtype: object"
      ]
     },
     "execution_count": 16,
     "metadata": {},
     "output_type": "execute_result"
    }
   ],
   "source": [
    "df.dtypes"
   ]
  },
  {
   "cell_type": "code",
   "execution_count": null,
   "id": "df15dec9-168b-4ca1-b3e0-2bd162281c88",
   "metadata": {},
   "outputs": [],
   "source": []
  }
 ],
 "metadata": {
  "kernelspec": {
   "display_name": "Python 3 (ipykernel)",
   "language": "python",
   "name": "python3"
  },
  "language_info": {
   "codemirror_mode": {
    "name": "ipython",
    "version": 3
   },
   "file_extension": ".py",
   "mimetype": "text/x-python",
   "name": "python",
   "nbconvert_exporter": "python",
   "pygments_lexer": "ipython3",
   "version": "3.10.12"
  }
 },
 "nbformat": 4,
 "nbformat_minor": 5
}
